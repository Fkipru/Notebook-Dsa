{
 "cells": [
  {
   "cell_type": "code",
   "execution_count": 5,
   "metadata": {},
   "outputs": [
    {
     "name": "stdout",
     "output_type": "stream",
     "text": [
      "hello world\n"
     ]
    }
   ],
   "source": [
    "print (\"hello world\")"
   ]
  },
  {
   "cell_type": "code",
   "execution_count": 9,
   "metadata": {},
   "outputs": [
    {
     "name": "stdout",
     "output_type": "stream",
     "text": [
      "Five is greater than two!\n"
     ]
    }
   ],
   "source": [
    "if 5>2:\n",
    "    print(\"Five is greater than two!\")"
   ]
  },
  {
   "cell_type": "code",
   "execution_count": 5,
   "metadata": {},
   "outputs": [
    {
     "name": "stdout",
     "output_type": "stream",
     "text": [
      "<class 'int'>\n",
      "<class 'int'>\n",
      "<class 'int'>\n"
     ]
    }
   ],
   "source": [
    "X=1458\n",
    "y=35656222554887711\n",
    "z=-3255522\n",
    "\n",
    "print(type(X))\n",
    "print(type(y))\n",
    "print(type(z))"
   ]
  },
  {
   "cell_type": "code",
   "execution_count": null,
   "metadata": {},
   "outputs": [],
   "source": [
    "x=1 int\n",
    "y=2.8 float\n",
    "z=1j complex\n",
    "convert from into to float\n",
    "a=float(X)\n",
    "convert from float to int\n",
    "b=int(y)\n",
    "convert from int to complex"
   ]
  },
  {
   "cell_type": "code",
   "execution_count": 8,
   "metadata": {},
   "outputs": [
    {
     "name": "stdout",
     "output_type": "stream",
     "text": [
      "13\n"
     ]
    }
   ],
   "source": [
    "a=\"Festuskipruto\"\n",
    "print(len(a))"
   ]
  },
  {
   "cell_type": "code",
   "execution_count": 9,
   "metadata": {},
   "outputs": [
    {
     "name": "stdout",
     "output_type": "stream",
     "text": [
      "llo\n"
     ]
    }
   ],
   "source": [
    "b=\"Hello,World\"\n",
    "s=b[2:5]\n",
    "print(s)"
   ]
  },
  {
   "cell_type": "code",
   "execution_count": 11,
   "metadata": {},
   "outputs": [
    {
     "name": "stdout",
     "output_type": "stream",
     "text": [
      "llo,World\n"
     ]
    }
   ],
   "source": [
    "b=\"Hello,World\"\n",
    "s=(b[2:])\n",
    "print(s)"
   ]
  },
  {
   "cell_type": "code",
   "execution_count": 12,
   "metadata": {},
   "outputs": [
    {
     "name": "stdout",
     "output_type": "stream",
     "text": [
      "HELLO,WORLD\n"
     ]
    }
   ],
   "source": [
    "a=\"Hello,World\"\n",
    "B=a.upper()\n",
    "print(B)"
   ]
  },
  {
   "cell_type": "code",
   "execution_count": 13,
   "metadata": {},
   "outputs": [
    {
     "name": "stdout",
     "output_type": "stream",
     "text": [
      "Jello,World\n"
     ]
    }
   ],
   "source": [
    "a=\"Hello,World\"\n",
    "B=a.replace(\"H\",\"J\")\n",
    "print(B)"
   ]
  },
  {
   "cell_type": "code",
   "execution_count": 9,
   "metadata": {},
   "outputs": [],
   "source": [
    "def school_age_calculator(age,name):\n",
    "    if age < 5:\n",
    "        print(\"Enjoy the time\",name, \"is only\",age)\n",
    "school_age_calculator(10,\"Festus\")"
   ]
  },
  {
   "cell_type": "code",
   "execution_count": 7,
   "metadata": {},
   "outputs": [
    {
     "name": "stdout",
     "output_type": "stream",
     "text": [
      "My name is John,and I am 36\n"
     ]
    }
   ],
   "source": [
    "age=36\n",
    "txt=\"My name is John,and I am {}\"\n",
    "D=txt.format(age)\n",
    "print(D)"
   ]
  },
  {
   "cell_type": "code",
   "execution_count": 19,
   "metadata": {},
   "outputs": [
    {
     "name": "stdout",
     "output_type": "stream",
     "text": [
      "I want 3 pieces of item 567 for 49.95 dollars.\n"
     ]
    }
   ],
   "source": [
    "quantity=3\n",
    "itemno=567\n",
    "price=49.95\n",
    "myorder=\"I want {} pieces of item {} for {} dollars.\"\n",
    "print(myorder.format(quantity,itemno,price))"
   ]
  },
  {
   "cell_type": "code",
   "execution_count": 30,
   "metadata": {},
   "outputs": [
    {
     "name": "stdout",
     "output_type": "stream",
     "text": [
      "Invalid input. Please enter a valid number.\n",
      "Invalid input. Please enter a valid number.\n",
      "\n",
      "Addition: 11.0\n",
      "Subtraction: -1.0\n",
      "Multiplication: 30.0\n",
      "Division: 0.8333333333333334\n"
     ]
    }
   ],
   "source": [
    "# Function to safely get a int input from the user\n",
    "def get_num_input(prompt):\n",
    "    while True:\n",
    "        try:\n",
    "            return int(input(prompt))\n",
    "        except ValueError:\n",
    "            print(\"Invalid input. Please enter a valid number.\")\n",
    "\n",
    "# Ask the user to input two numbers\n",
    "num1 = get_float_input(\"Enter the first number: \")\n",
    "num2 = get_float_input(\"Enter the second number: \")\n",
    "\n",
    "# Perform calculations\n",
    "addition = num1 + num2\n",
    "subtraction = num1 - num2\n",
    "multiplication = num1 * num2\n",
    "division = num1 / num2 if num2 != 0 else \"Undefined (cannot divide by zero)\"\n",
    "\n",
    "# Output results\n",
    "print(f\"\\nAddition: {addition}\")\n",
    "print(f\"Subtraction: {subtraction}\")\n",
    "print(f\"Multiplication: {multiplication}\")\n",
    "print(f\"Division: {division}\")\n"
   ]
  },
  {
   "cell_type": "code",
   "execution_count": 1,
   "metadata": {},
   "outputs": [
    {
     "name": "stdout",
     "output_type": "stream",
     "text": [
      "Addition: 1357\n",
      "Subtraction: -357\n",
      "Multiplication: 428500\n",
      "Division: 0.5834305717619603\n"
     ]
    }
   ],
   "source": [
    "# Ask the user to input two numbers (a and b) in this case my input is a = 648,b = 56 as a user.\n",
    "a = int(input(\"Enter the first number: \"))\n",
    "b = int(input(\"Enter the second number: \"))\n",
    "\n",
    "# calculations\n",
    "addition = a + b\n",
    "subtraction = a - b\n",
    "multiplication = a * b\n",
    "division = a / b if b != 0  else print (\"Math Error (cannot divide by zero)\")\n",
    "\n",
    "# (a and b) answers.\n",
    "print(\"Addition:\", addition)\n",
    "print(\"Subtraction:\", subtraction)\n",
    "print(\"Multiplication:\", multiplication)\n",
    "print(\"Division:\", division)\n"
   ]
  },
  {
   "cell_type": "code",
   "execution_count": 23,
   "metadata": {},
   "outputs": [
    {
     "name": "stdout",
     "output_type": "stream",
     "text": [
      "1\n",
      "2\n",
      "3\n",
      "4\n",
      "[1, 2, 3, 4, 5, 6, 7]\n",
      "[3, 4, 5]\n",
      "[2, 4, 6]\n",
      "[]\n",
      "[1, 2, 10, 4, 5, 6, 7]\n",
      "[1, 89, 78, 4, 5, 6, 7]\n",
      "[1, 89, 78, 4, 5, 6, 25]\n"
     ]
    }
   ],
   "source": [
    "list=[1,2,3,4,5,6,7]\n",
    "print(list[0])\n",
    "print(list[1])\n",
    "print(list[2])\n",
    "print(list[3])\n",
    "#Slicing the elrmrnt\n",
    "print(list[:])\n",
    "print(list[2:5])\n",
    "print(list[1:6:2])\n",
    "print(list[-1:-6])\n",
    "list[2]=10;\n",
    "print(list)\n",
    "list[1:3]=[89,78]\n",
    "print(list)\n",
    "list[-1]=25\n",
    "print(list)\n"
   ]
  },
  {
   "cell_type": "code",
   "execution_count": 26,
   "metadata": {},
   "outputs": [
    {
     "name": "stdout",
     "output_type": "stream",
     "text": [
      "['porsche', 'Lexus', 'Hilux', '911TurboS']\n"
     ]
    }
   ],
   "source": [
    "thislist=[\"porsche\",\"Lexus\",\"Hilux\"]\n",
    "thislist.append(\"911TurboS\")\n",
    "print(thislist)"
   ]
  },
  {
   "cell_type": "code",
   "execution_count": 30,
   "metadata": {},
   "outputs": [
    {
     "name": "stdout",
     "output_type": "stream",
     "text": [
      "['911TurboS', 'porsche', 'Lexus', 'Hilux']\n"
     ]
    }
   ],
   "source": [
    "thislist=[\"porsche\",\"Lexus\",\"Hilux\"]\n",
    "thislist.insert(0,\"911TurboS\")\n",
    "print(thislist)"
   ]
  },
  {
   "cell_type": "code",
   "execution_count": 31,
   "metadata": {},
   "outputs": [
    {
     "name": "stdout",
     "output_type": "stream",
     "text": [
      "['porsche', 'Hilux']\n"
     ]
    }
   ],
   "source": [
    "thislist=[\"porsche\",\"Lexus\",\"Hilux\"]\n",
    "thislist.pop(1)\n",
    "print(thislist)\n"
   ]
  },
  {
   "cell_type": "code",
   "execution_count": 12,
   "metadata": {},
   "outputs": [
    {
     "name": "stdout",
     "output_type": "stream",
     "text": [
      "['porsche', 'Lexus']\n"
     ]
    }
   ],
   "source": [
    "thislist=[\"porsche\",\"Lexus\",\"Hilux\"]\n",
    "thislist.remove(\"Hilux\")\n",
    "print(thislist)\n"
   ]
  },
  {
   "cell_type": "code",
   "execution_count": 18,
   "metadata": {},
   "outputs": [
    {
     "name": "stdout",
     "output_type": "stream",
     "text": [
      "['Porsche', 'Nissan GTR', 'Merc GLE 63']\n",
      "['Audi RS7', 'LX 600']\n",
      "['Porsche', 'Merc GLE 63', 'Audi RS7']\n",
      "['LX 600', 'Audi RS7', 'Hilux GR', 'Merc GLE 63', 'Nissan GTR', 'Porsche']\n",
      "['Merc GLE 63', 'Hilux GR']\n",
      "['Porsche', 'Nissan GTR', 'Tesla Model S', 'Ford Mustang', 'Audi RS7', 'LX 600']\n",
      "['Tesla Model S', 'Ford Mustang', 'Audi RS7', 'LX 600']\n",
      "['Ford Mustang', 'LX 600']\n",
      "['Audi RS7']\n"
     ]
    }
   ],
   "source": [
    "\n",
    "items = [\"Porsche\", \"Nissan GTR\", \"Merc GLE 63\", \"Hilux GR\", \"Audi RS7\", \"LX 600\"]\n",
    "\n",
    "#Print the first three elements using slicing.\n",
    "print( items[:3])\n",
    "\n",
    "#Print the last two elements using slicing.\n",
    "print(items[-2:])\n",
    "\n",
    "#Slice the list to print every second item.\n",
    "print(items[0:5:2])\n",
    "\n",
    "#Slice the list to print the elements in reverse order.\n",
    "print(items[::-1])\n",
    "\n",
    "#Print a slice of the list that excludes the first two and the last two items.\n",
    "print(items[2:-2])\n",
    "\n",
    "#Replace the middle two elements with new items.\n",
    "items[2:4] = [\"Tesla Model S\", \"Ford Mustang\"]\n",
    "print(items)\n",
    "\n",
    "#Use slicing to remove the first two elements of the list.\n",
    "items = items[2:]\n",
    "print(items)\n",
    "\n",
    "#slicing with steps to print only the items at odd indices.\n",
    "print(items[1::2])\n",
    "\n",
    "#Slice with negative steps to extract elements starting from the second last item to the third item, in reverse order.\n",
    "print(items[-2:1:-1])\n"
   ]
  },
  {
   "cell_type": "code",
   "execution_count": 34,
   "metadata": {},
   "outputs": [
    {
     "name": "stdout",
     "output_type": "stream",
     "text": [
      "['Porsche', 'Nissan GTR', 'Merc GLE 63']\n",
      "['Audi RS7', 'LX 600']\n",
      "['Porsche', 'Merc GLE 63', 'Audi RS7']\n",
      "['LX 600', 'Audi RS7', 'Hilux GR', 'Merc GLE 63', 'Nissan GTR', 'Porsche']\n",
      "['Merc GLE 63', 'Hilux GR']\n"
     ]
    }
   ],
   "source": [
    "\n",
    "items = [\"Porsche\", \"Nissan GTR\", \"Merc GLE 63\", \"Hilux GR\", \"Audi RS7\", \"LX 600\"]\n",
    "\n",
    "#Print the first three elements using slicing.\n",
    "print(items[:3])\n",
    "\n",
    "#Print the last two elements using slicing.\n",
    "print(items[-2:])\n",
    "\n",
    "#Slice the list to print every second item.\n",
    "print(items[::2])\n",
    "\n",
    "#Slice the list to print the elements in reverse order.\n",
    "print(items[::-1])\n",
    "\n",
    "#Print a slice of the list that excludes the first two and the last two items.\n",
    "print(items[2:-2])\n",
    "\n",
    "#Replace the middle two elements with new items.\n",
    "\n",
    "\n",
    "#Use slicing to remove the first two elements of the list.\n",
    "\n",
    "\n",
    "#slicing with steps to print only the items at odd indices.\n",
    "\n",
    "#Slice with negative steps to extract elements starting from the second last item to the third item, in reverse order.\n"
   ]
  },
  {
   "cell_type": "code",
   "execution_count": 5,
   "metadata": {},
   "outputs": [
    {
     "name": "stdout",
     "output_type": "stream",
     "text": [
      "3\n"
     ]
    }
   ],
   "source": [
    "thistuple=(\"apple\",\"banana\",\"mango\")\n",
    "print(len(thistuple))"
   ]
  },
  {
   "cell_type": "code",
   "execution_count": 6,
   "metadata": {},
   "outputs": [
    {
     "name": "stdout",
     "output_type": "stream",
     "text": [
      "banana\n"
     ]
    }
   ],
   "source": [
    "thistuple=(\"apple\",\"banana\",\"mango\")\n",
    "print(thistuple[1])"
   ]
  },
  {
   "cell_type": "code",
   "execution_count": 7,
   "metadata": {},
   "outputs": [
    {
     "name": "stdout",
     "output_type": "stream",
     "text": [
      "mango\n"
     ]
    }
   ],
   "source": [
    "thistuple=(\"apple\",\"banana\",\"mango\")\n",
    "print(thistuple[-1])"
   ]
  },
  {
   "cell_type": "code",
   "execution_count": 8,
   "metadata": {},
   "outputs": [
    {
     "name": "stdout",
     "output_type": "stream",
     "text": [
      "('cherry', 'orange', 'kiwi')\n"
     ]
    }
   ],
   "source": [
    "thistuple=(\"apple\",\"banana\",\"cherry\",\"orange\",\"kiwi\",\"melon\",\"mango\")\n",
    "print(thistuple[2:5])"
   ]
  },
  {
   "cell_type": "code",
   "execution_count": 9,
   "metadata": {},
   "outputs": [
    {
     "name": "stdout",
     "output_type": "stream",
     "text": [
      "('apple', 'banana', 'cherry', 'orange')\n"
     ]
    }
   ],
   "source": [
    "thistuple=(\"apple\",\"banana\",\"cherry\",\"orange\",\"kiwi\",\"melon\",\"mango\")\n",
    "print(thistuple[:4])"
   ]
  },
  {
   "cell_type": "code",
   "execution_count": 13,
   "metadata": {},
   "outputs": [
    {
     "name": "stdout",
     "output_type": "stream",
     "text": [
      "('apple', 'kiwi', 'cherry')\n"
     ]
    }
   ],
   "source": [
    "thistuple=(\"apple\",\"banana\",\"cherry\")\n",
    "x=list(thistuple)\n",
    "y=list(x)\n",
    "y[1]=\"kiwi\"\n",
    "x=tuple(y)\n",
    "print(x)"
   ]
  },
  {
   "cell_type": "code",
   "execution_count": 14,
   "metadata": {},
   "outputs": [
    {
     "name": "stdout",
     "output_type": "stream",
     "text": [
      "['apple', 'banana', 'cherry', 'orange']\n"
     ]
    }
   ],
   "source": [
    "thistuple=(\"apple\",\"banana\",\"cherry\")\n",
    "y=list(thistuple)\n",
    "y.append(\"orange\")\n",
    "print(y)"
   ]
  },
  {
   "cell_type": "code",
   "execution_count": 23,
   "metadata": {},
   "outputs": [
    {
     "name": "stdout",
     "output_type": "stream",
     "text": [
      "('apple', 'banana', 'cherry', 'orange')\n",
      "['apple', 'banana', 'cherry']\n"
     ]
    }
   ],
   "source": [
    "thistuple=(\"apple\",\"banana\",\"cherry\")\n",
    "y=(\"orange\",)\n",
    "thistuple +=y\n",
    "print(thistuple)\n",
    "y=list(thistuple)\n",
    "y.remove(\"orange\")\n",
    "print(y)\n",
    "\n",
    "\n"
   ]
  },
  {
   "cell_type": "code",
   "execution_count": 26,
   "metadata": {},
   "outputs": [
    {
     "name": "stdout",
     "output_type": "stream",
     "text": [
      "{'banana', 'apple', 'cherry'}\n"
     ]
    }
   ],
   "source": [
    "thisset={\"apple\",\"banana\",\"apple\",\"cherry\"}\n",
    "print(thisset)"
   ]
  },
  {
   "cell_type": "code",
   "execution_count": 28,
   "metadata": {},
   "outputs": [],
   "source": [
    "set1={\"apple\",\"banana\",\"cherry\"}\n",
    "set2={1,2,3,4,5}"
   ]
  },
  {
   "cell_type": "code",
   "execution_count": 29,
   "metadata": {},
   "outputs": [
    {
     "name": "stdout",
     "output_type": "stream",
     "text": [
      "banana\n",
      "apple\n",
      "cherry\n"
     ]
    }
   ],
   "source": [
    "thisset={\"apple\",\"banana\",\"cherry\"}\n",
    "for x in thisset:\n",
    "    print(x)"
   ]
  },
  {
   "cell_type": "code",
   "execution_count": 31,
   "metadata": {},
   "outputs": [
    {
     "name": "stdout",
     "output_type": "stream",
     "text": [
      "{'mango', 'apple', 'pineaple', 'cherry', 'papaya', 'banana'}\n"
     ]
    }
   ],
   "source": [
    "thisset={\"apple\",\"banana\",\"cherry\"}\n",
    "tropical={\"pineaple\",\"mango\",\"papaya\"}\n",
    "thisset.update(tropical)\n",
    "print(thisset)"
   ]
  },
  {
   "cell_type": "code",
   "execution_count": 33,
   "metadata": {},
   "outputs": [
    {
     "name": "stdout",
     "output_type": "stream",
     "text": [
      "{'apple', 'cherry', 'banana'}\n"
     ]
    }
   ],
   "source": [
    "thisset = {'mango', 'apple', 'pineaple', 'cherry', 'papaya', 'banana'}\n",
    "tropical = {\"pineaple\", \"mango\", \"papaya\"}\n",
    "thisset.difference_update(tropical)\n",
    "print(thisset)\n"
   ]
  },
  {
   "cell_type": "code",
   "execution_count": 13,
   "metadata": {},
   "outputs": [
    {
     "name": "stdout",
     "output_type": "stream",
     "text": [
      "10\n",
      "95 76\n",
      "86.8\n"
     ]
    }
   ],
   "source": [
    "grades=[85,92,78,90,89,95,88,76,84,91]\n",
    "total_grade=len(grades)\n",
    "print(total_grade)\n",
    "highest_grade=max(grades)\n",
    "lowest_grade=min(grades)\n",
    "print(highest_grade,lowest_grade)\n",
    "avarage_grade=sum(grades)/total_grade\n",
    "avarage_grade_round=round(avarage_grade,2)\n",
    "print(avarage_grade_round)"
   ]
  },
  {
   "cell_type": "code",
   "execution_count": 12,
   "metadata": {},
   "outputs": [
    {
     "name": "stdout",
     "output_type": "stream",
     "text": [
      "total number: 10\n",
      "Highest grade: 95\n",
      "Lowest grade: 76\n",
      "Average grade : 86.8\n"
     ]
    }
   ],
   "source": [
    "# Step 1: Create the list of grades\n",
    "grades = [85, 92, 78, 90, 89, 95, 88, 76, 84, 91]\n",
    "\n",
    "# Step 2: Calculate the total number of grades\n",
    "total_grade = len(grades)\n",
    "\n",
    "# Step 3: Print the total number of grades\n",
    "print(\"total number:\", total_grade)\n",
    "\n",
    "# Step 4: Calculate the highest and lowest grades\n",
    "highest_grade = max(grades)\n",
    "lowest_grade = min(grades)\n",
    "\n",
    "# Step 5: Print the highest and lowest grades\n",
    "print(\"Highest grade:\", highest_grade)\n",
    "print(\"Lowest grade:\", lowest_grade)\n",
    "\n",
    "# Step 6: Calculate the average grade\n",
    "average_grade = sum(grades) / total_grade\n",
    "\n",
    "# Step 7: Round the average grade to two decimal places\n",
    "average_grade_rounded = round(average_grade, 2)\n",
    "\n",
    "# Step 8: Print the average grade\n",
    "print(\"Average grade :\", average_grade_rounded)\n"
   ]
  },
  {
   "cell_type": "code",
   "execution_count": 6,
   "metadata": {},
   "outputs": [
    {
     "name": "stdout",
     "output_type": "stream",
     "text": [
      "{'brand': 'Porsche', 'model': '911 turbo S', 'year': 2024}\n"
     ]
    }
   ],
   "source": [
    "thisdict={\n",
    "    \"brand\":\"Porsche\",\n",
    "    \"model\":\"911 turbo S\",\n",
    "    \"year\":2004,\n",
    "    \"year\":2024\n",
    "}\n",
    "print(thisdict)"
   ]
  },
  {
   "cell_type": "code",
   "execution_count": 13,
   "metadata": {},
   "outputs": [
    {
     "name": "stdout",
     "output_type": "stream",
     "text": [
      "3\n"
     ]
    }
   ],
   "source": [
    "Student={\n",
    "    \"name\":\"Shahid\",\n",
    "    \"branch\":\"IT\",\n",
    "    \"course\":\"Ph.D\",\n",
    "}\n",
    "S=len(Student)\n",
    "print(S);"
   ]
  },
  {
   "cell_type": "code",
   "execution_count": 14,
   "metadata": {},
   "outputs": [
    {
     "name": "stdout",
     "output_type": "stream",
     "text": [
      "{'brand': 'ford', 'electric': 'false', 'year': '1964'}\n"
     ]
    }
   ],
   "source": [
    "thisdict={\n",
    "    \"brand\":\"ford\",\n",
    "    \"electric\":\"false\",\n",
    "    \"year\":\"1964\",\n",
    "}\n",
    "print(thisdict)"
   ]
  },
  {
   "cell_type": "code",
   "execution_count": 35,
   "metadata": {},
   "outputs": [
    {
     "ename": "IndentationError",
     "evalue": "unexpected indent (3486719641.py, line 6)",
     "output_type": "error",
     "traceback": [
      "\u001b[1;36m  Cell \u001b[1;32mIn[35], line 6\u001b[1;36m\u001b[0m\n\u001b[1;33m    x=car.values()\u001b[0m\n\u001b[1;37m    ^\u001b[0m\n\u001b[1;31mIndentationError\u001b[0m\u001b[1;31m:\u001b[0m unexpected indent\n"
     ]
    },
    {
     "ename": "",
     "evalue": "",
     "output_type": "error",
     "traceback": [
      "\u001b[1;31mThe Kernel crashed while executing code in the current cell or a previous cell. \n",
      "\u001b[1;31mPlease review the code in the cell(s) to identify a possible cause of the failure. \n",
      "\u001b[1;31mClick <a href='https://aka.ms/vscodeJupyterKernelCrash'>here</a> for more info. \n",
      "\u001b[1;31mView Jupyter <a href='command:jupyter.viewOutput'>log</a> for further details."
     ]
    }
   ],
   "source": [
    "car={\n",
    "    \"brand\":\"ford\",\n",
    "    \"model\":\"mustang\",\n",
    "    \"year\":1964\n",
    "    }\n",
    "    x=car.values()\n",
    "    print(x)#before the change\n",
    "    car[\"year\"]=2020\n",
    "    print(x)#after the change\n",
    "\n"
   ]
  },
  {
   "cell_type": "code",
   "execution_count": 19,
   "metadata": {},
   "outputs": [
    {
     "name": "stdout",
     "output_type": "stream",
     "text": [
      "dict_values(['ford', 'mustang', 1964])\n",
      "dict_values(['ford', 'mustang', 2020])\n",
      "dict_values(['ford', 'mustang', 2020])\n"
     ]
    }
   ],
   "source": [
    "car = {\n",
    "    \"brand\": \"ford\",\n",
    "    \"model\": \"mustang\",\n",
    "    \"year\": 1964\n",
    "}\n",
    "\n",
    "x = car.values()\n",
    "print(x)  # before the change\n",
    "\n",
    "car[\"year\"] = 2020\n",
    "print(x)  # after the change\n",
    "\n",
    "x = car.values()  # updating x after the change\n",
    "print(x)  # print the updated values\n"
   ]
  },
  {
   "cell_type": "code",
   "execution_count": 20,
   "metadata": {},
   "outputs": [
    {
     "name": "stdout",
     "output_type": "stream",
     "text": [
      "{'brand': 'ford', 'model': 'mustang', 'year': 1964}\n",
      "<built-in method update of dict object at 0x00000163DA6A9A00>\n"
     ]
    }
   ],
   "source": [
    "thisdict = {\n",
    "    \"brand\": \"ford\",\n",
    "    \"model\": \"mustang\",\n",
    "    \"year\": 1964\n",
    "}\n",
    "print(thisdict)\n",
    "thisdict.update({\"year\":2020})\n",
    "print(thisdict.update)"
   ]
  },
  {
   "cell_type": "code",
   "execution_count": 22,
   "metadata": {},
   "outputs": [
    {
     "name": "stdout",
     "output_type": "stream",
     "text": [
      "{'brand': 'ford', 'model': 'mustang'}\n"
     ]
    }
   ],
   "source": [
    "thisdict = {\n",
    "    \"brand\": \"ford\",\n",
    "    \"model\": \"mustang\",\n",
    "    \"year\": 1964\n",
    "}\n",
    "thisdict.pop(\"year\")\n",
    "print(thisdict)\n"
   ]
  },
  {
   "cell_type": "code",
   "execution_count": 25,
   "metadata": {},
   "outputs": [
    {
     "name": "stdout",
     "output_type": "stream",
     "text": [
      "{'brand': 'ford', 'model': 'mustang', 'year': 1964}\n"
     ]
    }
   ],
   "source": [
    "thisdict = {\n",
    "    \"brand\": \"ford\",\n",
    "    \"model\": \"mustang\",\n",
    "    \"year\": 1964\n",
    "}\n",
    "newdict=thisdict.copy()\n",
    "print(newdict)"
   ]
  },
  {
   "cell_type": "code",
   "execution_count": 26,
   "metadata": {},
   "outputs": [
    {
     "name": "stdout",
     "output_type": "stream",
     "text": [
      "{'brand': 'ford', 'model': 'mustang', 'year': 1964}\n"
     ]
    }
   ],
   "source": [
    "thisdict = {\n",
    "    \"brand\": \"ford\",\n",
    "    \"model\": \"mustang\",\n",
    "    \"year\": 1964\n",
    "}\n",
    "mydict=dict(thisdict)\n",
    "print(mydict)"
   ]
  },
  {
   "cell_type": "code",
   "execution_count": 2,
   "metadata": {},
   "outputs": [
    {
     "name": "stdout",
     "output_type": "stream",
     "text": [
      "{'apples': 50, 'oranges': 30, 'bananas': 20, 'grapes': 40, 'pears': 25}\n"
     ]
    }
   ],
   "source": [
    "# Step 1: Create a dictionary with 5 unique items\n",
    "item_inventory = {\n",
    "    \"apples\": 50,\n",
    "    \"oranges\": 30,\n",
    "    \"bananas\": 20,\n",
    "    \"grapes\": 40,\n",
    "    \"pears\": 25\n",
    "}\n",
    "\n",
    "print(item_inventory)\n"
   ]
  },
  {
   "cell_type": "code",
   "execution_count": 8,
   "metadata": {},
   "outputs": [
    {
     "name": "stdout",
     "output_type": "stream",
     "text": [
      "{'Basagran': 100, 'Prosaro': 50, 'Huskie': 70, 'Ariane': 30, 'Skyway': 60}\n",
      "{'Basagran': 100, 'Prosaro': 50, 'Huskie': 70, 'Ariane': 30, 'Skyway': 60, 'Trivapro': 40}\n",
      "{'Basagran': 100, 'Prosaro': 50, 'Huskie': 90, 'Ariane': 30, 'Skyway': 60, 'Trivapro': 40}\n",
      "{'Basagran': 100, 'Prosaro': 50, 'Huskie': 90, 'Skyway': 60, 'Trivapro': 40}\n"
     ]
    }
   ],
   "source": [
    "# Step 1: Create a dictionary with 5 unique items (farm chemicals).\n",
    "item_inventory = {\n",
    "    \"Basagran\": 100,   # quantity in liters\n",
    "    \"Prosaro\": 50,\n",
    "    \"Huskie\": 70,\n",
    "    \"Ariane\": 30,\n",
    "    \"Skyway\": 60\n",
    "}\n",
    "\n",
    "print(item_inventory)\n",
    "# Step 2: Add a new farm chemical (Trivapro)\n",
    "item_inventory[\"Trivapro\"] = 40\n",
    "\n",
    "print(item_inventory)\n",
    "# Step 3: Update the quantity of one item (Huskie)\n",
    "item_inventory[\"Huskie\"] = 90\n",
    "\n",
    "print(item_inventory)\n",
    "# Step 4: Delete an item (Ariane)\n",
    "item_inventory.pop(\"Ariane\")\n",
    "\n",
    "print(item_inventory)\n"
   ]
  },
  {
   "cell_type": "code",
   "execution_count": 1,
   "metadata": {},
   "outputs": [
    {
     "data": {
      "text/plain": [
       "2"
      ]
     },
     "execution_count": 1,
     "metadata": {},
     "output_type": "execute_result"
    }
   ],
   "source": [
    "5//2"
   ]
  },
  {
   "cell_type": "code",
   "execution_count": 8,
   "metadata": {},
   "outputs": [
    {
     "name": "stdout",
     "output_type": "stream",
     "text": [
      "b is greater than a\n"
     ]
    }
   ],
   "source": [
    "a=33\n",
    "b=200\n",
    "if b>a:\n",
    "    print(\"b is greater than a\")\n"
   ]
  },
  {
   "cell_type": "code",
   "execution_count": 15,
   "metadata": {},
   "outputs": [
    {
     "name": "stdout",
     "output_type": "stream",
     "text": [
      "a and b are equal\n"
     ]
    }
   ],
   "source": [
    "a=33\n",
    "b=33\n",
    "if b>a:\n",
    "    print(\"b is greater than a\")\n",
    "elif a==b:\n",
    " print(\"a and b are equal\")\n"
   ]
  },
  {
   "cell_type": "code",
   "execution_count": 19,
   "metadata": {},
   "outputs": [
    {
     "name": "stdout",
     "output_type": "stream",
     "text": [
      "a is greater than b\n"
     ]
    }
   ],
   "source": [
    "a=400\n",
    "b=10\n",
    "if a>b: print(\"a is greater than b\")\n"
   ]
  },
  {
   "cell_type": "code",
   "execution_count": 20,
   "metadata": {},
   "outputs": [
    {
     "name": "stdout",
     "output_type": "stream",
     "text": [
      "B\n"
     ]
    }
   ],
   "source": [
    "a=2\n",
    "b=330\n",
    "print(\"A\") if a>b else print(\"B\")"
   ]
  },
  {
   "cell_type": "code",
   "execution_count": 23,
   "metadata": {},
   "outputs": [
    {
     "name": "stdout",
     "output_type": "stream",
     "text": [
      "=\n"
     ]
    }
   ],
   "source": [
    "a=330\n",
    "b=330\n",
    "print(\"A\")if a>b else print(\"=\") if a==b else print(\"B\")"
   ]
  },
  {
   "cell_type": "code",
   "execution_count": 26,
   "metadata": {},
   "outputs": [
    {
     "name": "stdout",
     "output_type": "stream",
     "text": [
      "both conditions are true\n"
     ]
    }
   ],
   "source": [
    "a=200\n",
    "b=33\n",
    "c=500\n",
    "if a>b and c>a:\n",
    "    print(\"both conditions are true\")"
   ]
  },
  {
   "cell_type": "code",
   "execution_count": 32,
   "metadata": {},
   "outputs": [
    {
     "name": "stdout",
     "output_type": "stream",
     "text": [
      "Above ten,\n",
      "and also above 20!\n"
     ]
    }
   ],
   "source": [
    "x=41\n",
    "if x>10:\n",
    "    print(\"Above ten,\")\n",
    "    if x>20:\n",
    "        print(\"and also above 20!\")\n",
    "    else:\n",
    "        print(\"but not above 20.\")"
   ]
  },
  {
   "cell_type": "code",
   "execution_count": 37,
   "metadata": {},
   "outputs": [
    {
     "name": "stdout",
     "output_type": "stream",
     "text": [
      "Negative number\n"
     ]
    }
   ],
   "source": [
    "num=float(input(\"Enter a number:\"))\n",
    "if num>=0:\n",
    "    if num==0:\n",
    "        print(\"Zero\")\n",
    "    else:\n",
    "        print(\"Positive number\")\n",
    "else:\n",
    "    print(\"Negative number\")\n"
   ]
  },
  {
   "cell_type": "code",
   "execution_count": 38,
   "metadata": {},
   "outputs": [],
   "source": [
    "a=33\n",
    "b=200\n",
    "if b>a:\n",
    "    pass"
   ]
  },
  {
   "cell_type": "code",
   "execution_count": 41,
   "metadata": {},
   "outputs": [
    {
     "name": "stdout",
     "output_type": "stream",
     "text": [
      "sucess\n"
     ]
    }
   ],
   "source": [
    "list=[4,3,5,6,7]\n",
    "if list[0]>list[1]:\n",
    "    print(\"sucess\")\n",
    "else:\n",
    "    print(\"hello\")"
   ]
  },
  {
   "cell_type": "code",
   "execution_count": 6,
   "metadata": {},
   "outputs": [],
   "source": [
    "x = 50\n",
    "y = 100\n",
    "\n",
    "if x == 100:  # this is the condition you may have intended\n",
    "    y = 50\n",
    "    print(f\"x: {x}, y: {y}\")\n"
   ]
  },
  {
   "cell_type": "code",
   "execution_count": 1,
   "metadata": {},
   "outputs": [
    {
     "name": "stdout",
     "output_type": "stream",
     "text": [
      "30 is not a prime number.\n"
     ]
    }
   ],
   "source": [
    "def is_prime(num):\n",
    "    if num < 2:\n",
    "        return False\n",
    "    for i in range(2, int(num ** 0.5) + 1):\n",
    "        if num % i == 0:\n",
    "            return False\n",
    "    return True\n",
    "\n",
    "number = int(input(\"Enter a number: \"))\n",
    "if is_prime(number):\n",
    "    print(f\"{number} is a prime number.\")\n",
    "else:\n",
    "    print(f\"{number} is not a prime number.\")\n"
   ]
  },
  {
   "cell_type": "code",
   "execution_count": 2,
   "metadata": {},
   "outputs": [
    {
     "name": "stdout",
     "output_type": "stream",
     "text": [
      "The minimum number is: 2\n"
     ]
    }
   ],
   "source": [
    "def find_minimum(numbers):\n",
    "    return min(numbers)\n",
    "\n",
    "numbers = list(map(int, input(\"Enter integers separated by space: \").split()))\n",
    "print(f\"The minimum number is: {find_minimum(numbers)}\")\n"
   ]
  },
  {
   "cell_type": "code",
   "execution_count": 3,
   "metadata": {},
   "outputs": [
    {
     "name": "stdout",
     "output_type": "stream",
     "text": [
      "The sum of squares from 1 to 30 is: 9455\n"
     ]
    }
   ],
   "source": [
    "def sum_of_squares(n):\n",
    "    return sum(i ** 2 for i in range(1, n + 1))\n",
    "\n",
    "N = int(input(\"Enter a number: \"))\n",
    "print(f\"The sum of squares from 1 to {N} is: {sum_of_squares(N)}\")\n"
   ]
  },
  {
   "cell_type": "code",
   "execution_count": 4,
   "metadata": {},
   "outputs": [
    {
     "name": "stdout",
     "output_type": "stream",
     "text": [
      "The top student is Alice with a score of 95\n"
     ]
    }
   ],
   "source": [
    "student_scores = {\n",
    "    'John': 85,\n",
    "    'Alice': 95,\n",
    "    'Bob': 78,\n",
    "    'Mary': 88\n",
    "}\n",
    "\n",
    "max_score = max(student_scores.values())\n",
    "top_student = [name for name, score in student_scores.items() if score == max_score]\n",
    "\n",
    "print(f\"The top student is {top_student[0]} with a score of {max_score}\")\n"
   ]
  },
  {
   "cell_type": "code",
   "execution_count": null,
   "metadata": {},
   "outputs": [],
   "source": [
    "def is_prime(n):\n",
    "    # Step 1: Check if the number is less than or equal to 1\n",
    "    if n <= 1:\n",
    "        return False  # Numbers less than or equal to 1 are not prime\n",
    "    \n",
    "    # Step 2: Check for factors from 2 to the square root of n\n",
    "    for i in range(2, int(n**0.5) + 1):\n",
    "        # Step 3: If n is divisible by i, then it's not prime\n",
    "        if n % i == 0:\n",
    "            return False\n",
    "    \n",
    "    # Step 4: If no factors were found, n is prime\n",
    "    return True\n"
   ]
  },
  {
   "cell_type": "code",
   "execution_count": null,
   "metadata": {},
   "outputs": [],
   "source": [
    "def find_minimum(numbers):\n",
    "    # Step 1: Use the built-in min function to find the minimum number\n",
    "    return min(numbers)  # Returns the smallest number in the list\n"
   ]
  },
  {
   "cell_type": "code",
   "execution_count": null,
   "metadata": {},
   "outputs": [],
   "source": [
    "def sum_of_squares(numbers):\n",
    "    # Step 1: Initialize a variable to hold the sum\n",
    "    total = 0  \n",
    "    \n",
    "    # Step 2: Loop through each number in the list\n",
    "    for x in numbers:\n",
    "        # Step 3: Square the number and add it to total\n",
    "        total += x ** 2  \n",
    "    \n",
    "    # Step 4: Return the final sum of squares\n",
    "    return total  \n"
   ]
  },
  {
   "cell_type": "code",
   "execution_count": null,
   "metadata": {},
   "outputs": [],
   "source": [
    "# Step 1: Create an empty dictionary\n",
    "my_dict = {}\n",
    "\n",
    "# Step 2: Add a key-value pair to the dictionary\n",
    "my_dict['key'] = 'value'  # 'key' is the identifier, and 'value' is the associated value\n",
    "\n",
    "# You can print the dictionary to see the result\n",
    "print(my_dict)  # Output: {'key': 'value'}\n"
   ]
  },
  {
   "cell_type": "code",
   "execution_count": 1,
   "metadata": {},
   "outputs": [
    {
     "name": "stdout",
     "output_type": "stream",
     "text": [
      "Not Prime\n"
     ]
    },
    {
     "ename": "",
     "evalue": "",
     "output_type": "error",
     "traceback": [
      "\u001b[1;31mThe Kernel crashed while executing code in the current cell or a previous cell. \n",
      "\u001b[1;31mPlease review the code in the cell(s) to identify a possible cause of the failure. \n",
      "\u001b[1;31mClick <a href='https://aka.ms/vscodeJupyterKernelCrash'>here</a> for more info. \n",
      "\u001b[1;31mView Jupyter <a href='command:jupyter.viewOutput'>log</a> for further details."
     ]
    }
   ],
   "source": [
    "x = int(input(\"Enter a number: \"))  # Input from the user\n",
    "if x > 1:\n",
    "    for i in range(2, x):\n",
    "        if x % i == 0:\n",
    "            print(\"Not Prime\")\n",
    "            break\n",
    "    else:\n",
    "        print(\"Prime\")\n",
    "else:\n",
    "    print(\"Not Prime\")\n"
   ]
  },
  {
   "cell_type": "code",
   "execution_count": null,
   "metadata": {},
   "outputs": [],
   "source": [
    "a = [4, 6, 2, 8, 1]  # Example list of integers\n",
    "min_num = a[0]  # Assume the first element is the smallest\n",
    "for x in a:\n",
    "    if x < min_num:\n",
    "        min_num = x\n",
    "print(\"Minimum number is\", min_num)\n"
   ]
  },
  {
   "cell_type": "code",
   "execution_count": null,
   "metadata": {},
   "outputs": [],
   "source": [
    "y = int(input(\"Enter a number: \"))  # Input from the user\n",
    "sum_squares = 0\n",
    "for x in range(1, y + 1):\n",
    "    sum_squares += x * x  # Add the square of the current number\n",
    "print(\"Sum of squares is\", sum_squares)\n"
   ]
  },
  {
   "cell_type": "code",
   "execution_count": null,
   "metadata": {},
   "outputs": [],
   "source": [
    "my_dict = {\"a\": 1, \"b\": 2, \"c\": 3}  # A simple dictionary\n",
    "key = input(\"Enter a key: \")  # Get input from the user\n",
    "if key in my_dict:\n",
    "    print(\"Value:\", my_dict[key])\n",
    "else:\n",
    "    print(\"Key not found\")\n"
   ]
  },
  {
   "cell_type": "code",
   "execution_count": 4,
   "metadata": {},
   "outputs": [
    {
     "ename": "IndentationError",
     "evalue": "expected an indented block after 'while' statement on line 2 (2784779556.py, line 3)",
     "output_type": "error",
     "traceback": [
      "\u001b[1;36m  Cell \u001b[1;32mIn[4], line 3\u001b[1;36m\u001b[0m\n\u001b[1;33m    print(i)\u001b[0m\n\u001b[1;37m    ^\u001b[0m\n\u001b[1;31mIndentationError\u001b[0m\u001b[1;31m:\u001b[0m expected an indented block after 'while' statement on line 2\n"
     ]
    }
   ],
   "source": [
    "i=1\n",
    "while i<6:\n",
    "print(i)\n",
    "i+= 1\n"
   ]
  },
  {
   "cell_type": "code",
   "execution_count": 5,
   "metadata": {},
   "outputs": [
    {
     "name": "stdout",
     "output_type": "stream",
     "text": [
      "1\n",
      "2\n",
      "3\n",
      "4\n",
      "5\n",
      "i is no longer less than 6\n"
     ]
    }
   ],
   "source": [
    "i=1\n",
    "while i<6:\n",
    "    print(i)\n",
    "    i+=1\n",
    "else:\n",
    "    print(\"i is no longer less than 6\")"
   ]
  },
  {
   "cell_type": "code",
   "execution_count": 8,
   "metadata": {},
   "outputs": [
    {
     "name": "stdout",
     "output_type": "stream",
     "text": [
      "found sucessfuly 5\n"
     ]
    }
   ],
   "source": [
    "list=[4,3,5,6,7]\n",
    "s=5\n",
    "i=0\n",
    "while i<len(list):\n",
    " if list[i]==s:\n",
    "    print('found sucessfuly',list[i])\n",
    "    break \n",
    " i+=1\n",
    "else:\n",
    " print(\"no match\")"
   ]
  },
  {
   "cell_type": "code",
   "execution_count": 10,
   "metadata": {},
   "outputs": [
    {
     "name": "stdout",
     "output_type": "stream",
     "text": [
      "apple\n",
      "banana\n",
      "cherry\n"
     ]
    }
   ],
   "source": [
    "fruits=[\"apple\",\"banana\",\"cherry\"]\n",
    "for x in fruits:\n",
    "    print(x)"
   ]
  },
  {
   "cell_type": "code",
   "execution_count": 11,
   "metadata": {},
   "outputs": [
    {
     "name": "stdout",
     "output_type": "stream",
     "text": [
      "apple\n",
      "banana\n"
     ]
    }
   ],
   "source": [
    "fruits=[\"apple\",\"banana\",\"cherry\"]\n",
    "for x in fruits:\n",
    "    print(x)\n",
    "    if x==\"banana\":\n",
    "        break"
   ]
  },
  {
   "cell_type": "code",
   "execution_count": 12,
   "metadata": {},
   "outputs": [
    {
     "name": "stdout",
     "output_type": "stream",
     "text": [
      "apple\n",
      "apple\n",
      "banana\n"
     ]
    }
   ],
   "source": [
    "fruits=[\"apple\",\"banana\",\"cherry\"]\n",
    "for x in fruits:\n",
    "    print(x)\n",
    "    if x==\"banana\":\n",
    "        break\n",
    "    print(x)"
   ]
  },
  {
   "cell_type": "code",
   "execution_count": 13,
   "metadata": {},
   "outputs": [
    {
     "name": "stdout",
     "output_type": "stream",
     "text": [
      "apple\n",
      "apple\n",
      "banana\n",
      "cherry\n",
      "cherry\n"
     ]
    }
   ],
   "source": [
    "fruits=[\"apple\",\"banana\",\"cherry\"]\n",
    "for x in fruits:\n",
    "    print(x)\n",
    "    if x==\"banana\":\n",
    "        continue\n",
    "    print(x)"
   ]
  },
  {
   "cell_type": "code",
   "execution_count": 14,
   "metadata": {},
   "outputs": [
    {
     "name": "stdout",
     "output_type": "stream",
     "text": [
      "0\n",
      "1\n",
      "2\n",
      "3\n",
      "4\n",
      "5\n"
     ]
    }
   ],
   "source": [
    "for x in range(6):\n",
    "    print(x)"
   ]
  },
  {
   "cell_type": "code",
   "execution_count": 15,
   "metadata": {},
   "outputs": [
    {
     "name": "stdout",
     "output_type": "stream",
     "text": [
      "2\n",
      "5\n",
      "8\n",
      "11\n",
      "14\n",
      "17\n",
      "20\n",
      "23\n",
      "26\n",
      "29\n"
     ]
    }
   ],
   "source": [
    "for x in range(2,30,3):\n",
    "    print(x)"
   ]
  },
  {
   "cell_type": "code",
   "execution_count": 16,
   "metadata": {},
   "outputs": [
    {
     "name": "stdout",
     "output_type": "stream",
     "text": [
      "red apple\n",
      "red banana\n",
      "red cherry\n",
      "big apple\n",
      "big banana\n",
      "big cherry\n",
      "tasty apple\n",
      "tasty banana\n",
      "tasty cherry\n"
     ]
    }
   ],
   "source": [
    "adj=[\"red\",\"big\",\"tasty\"]\n",
    "fruit=[\"apple\",\"banana\",\"cherry\"]\n",
    "for x in adj:\n",
    "    for y in fruits:\n",
    "        print(x,y)\n"
   ]
  },
  {
   "cell_type": "code",
   "execution_count": 21,
   "metadata": {},
   "outputs": [
    {
     "name": "stdout",
     "output_type": "stream",
     "text": [
      "Welcome to GFG\n"
     ]
    }
   ],
   "source": [
    "#A simple python function\n",
    "def fun():\n",
    "    print(\"Welcome to GFG\")\n",
    "    #Drive code to call a function\n",
    "fun()"
   ]
  },
  {
   "cell_type": "code",
   "execution_count": 29,
   "metadata": {},
   "outputs": [],
   "source": [
    "def evenOdd(x=10):\n",
    "    if(x % 2 == 0):\n",
    "        print(\"even\")\n",
    "    else:\n",
    "        print(\"odd\")"
   ]
  },
  {
   "cell_type": "code",
   "execution_count": 33,
   "metadata": {},
   "outputs": [
    {
     "name": "stdout",
     "output_type": "stream",
     "text": [
      "4\n",
      "16\n"
     ]
    }
   ],
   "source": [
    "def square_value(num):\n",
    "    \"\"\"This function returns the square value of the entered number\"\"\"\n",
    "    return num**2\n",
    "print(square_value(2))\n",
    "print(square_value(-4))"
   ]
  },
  {
   "cell_type": "code",
   "execution_count": 36,
   "metadata": {},
   "outputs": [
    {
     "name": "stdout",
     "output_type": "stream",
     "text": [
      "apple\n",
      "banana\n",
      "cherry\n"
     ]
    }
   ],
   "source": [
    "def my_function(food):\n",
    "    for x in food:\n",
    "        print(x)\n",
    "\n",
    "fruits=[\"apple\",\"banana\",\"cherry\"]\n",
    "my_function(fruits)"
   ]
  },
  {
   "cell_type": "code",
   "execution_count": null,
   "metadata": {},
   "outputs": [],
   "source": [
    "#function that takes three numbers.\n",
    "def max_of_three(a,b,c):\n",
    "    if a>=b and a>=c:\n",
    "        return a\n",
    "    elif b>=a and b>=c:\n",
    "        return b\n",
    "    else:\n",
    "        return c\n",
    "\n",
    "#test function.\n",
    "def test_max_of_three():\n",
    "    if max_of_three(3,7,5)==7:\n",
    "        print(\"True\")\n",
    "    else:\n",
    "        print(\"False\")\n",
    "        if max_of_three(10,10,5)==10:\n",
    "            print(\"True\")\n",
    "        else:\n",
    "            print(\"False\")\n",
    "\n",
    "#function to check if a function is a palindrome.\n",
    "    \n",
    "\n",
    "\n"
   ]
  },
  {
   "cell_type": "code",
   "execution_count": 9,
   "metadata": {},
   "outputs": [],
   "source": [
    "file1=open(\"my name is.txt\",\"a\")\n",
    "file1.write(\"\\n Festus Kipruto\")\n",
    "file1.close()\n"
   ]
  },
  {
   "cell_type": "code",
   "execution_count": 10,
   "metadata": {},
   "outputs": [
    {
     "name": "stdout",
     "output_type": "stream",
     "text": [
      "my na\n"
     ]
    }
   ],
   "source": [
    "f=open(\"my name is.txt\",\"r\")\n",
    "print(f.read(5))"
   ]
  },
  {
   "cell_type": "code",
   "execution_count": 6,
   "metadata": {},
   "outputs": [
    {
     "name": "stdout",
     "output_type": "stream",
     "text": [
      "my name is\n",
      "\n"
     ]
    }
   ],
   "source": [
    "f=open(\"my name is.txt\",\"r\")\n",
    "print(f.readline())\n",
    "\n"
   ]
  },
  {
   "cell_type": "code",
   "execution_count": 3,
   "metadata": {},
   "outputs": [
    {
     "name": "stdout",
     "output_type": "stream",
     "text": [
      "[{'Name': 'Festus', 'Major': 'DSA', 'Height': '1.69', 'GPA': '3.5', 'Age': '20'}, {'Name': 'Collins', 'Major': 'MBA', 'Height': '1.64', 'GPA': '2.6', 'Age': '25'}, {'Name': 'Dennis', 'Major': 'ICT', 'Height': '1.65', 'GPA': '2.7', 'Age': '19'}]\n"
     ]
    }
   ],
   "source": [
    "import csv\n",
    "with open(\"Book.csv\") as csvfile:\n",
    "    m=list(csv.DictReader(csvfile))\n",
    "    print(m[:3])"
   ]
  },
  {
   "cell_type": "code",
   "execution_count": 5,
   "metadata": {},
   "outputs": [
    {
     "name": "stdout",
     "output_type": "stream",
     "text": [
      "[['Name', 'Major', 'Height', 'GPA', 'Age'], ['Festus', 'DSA', '1.69', '3.5', '20'], ['Collins', 'MBA', '1.64', '2.6', '25']]\n"
     ]
    }
   ],
   "source": [
    "import csv\n",
    "with open(\"Book.csv\") as csvfile:\n",
    "    m=list(csv.reader(csvfile))\n",
    "    print(m[:3])"
   ]
  },
  {
   "cell_type": "code",
   "execution_count": 13,
   "metadata": {},
   "outputs": [],
   "source": [
    "import csv\n",
    "with open(\"Book.csv\",\"a\",newline=\"\") as csvfile:\n",
    "    fieldnames=[\"Name\",\"Major\",\"Height\",\"GPA\",\"Age\"]\n",
    "    writer=csv.DictWriter(csvfile,fieldnames=fieldnames)\n",
    "    writer.writeheader()\n",
    "    writer.writerow({\"Name\":\"Kipruto\",\"Major\":\"DSA\",\"Height\":\"1.79\",\"GPA\":\"4.0\",\"Age\":\"23\"})"
   ]
  },
  {
   "cell_type": "code",
   "execution_count": 14,
   "metadata": {},
   "outputs": [
    {
     "name": "stdout",
     "output_type": "stream",
     "text": [
      "Height\n",
      "1.79\n",
      "Height\n",
      "1.79\n"
     ]
    }
   ],
   "source": [
    "import csv\n",
    "f=open(\"Book.csv\")\n",
    "csv_f=csv.reader(f)\n",
    "for row in csv_f:\n",
    "    print(row[2])\n"
   ]
  },
  {
   "cell_type": "code",
   "execution_count": 1,
   "metadata": {},
   "outputs": [
    {
     "name": "stdout",
     "output_type": "stream",
     "text": [
      "Festus, Roll: 001, Marks: 92, Remark: Distinction\n",
      "Dennis, Roll: 002, Marks: 76, Remark: Merit\n",
      "Amon, Roll: 003, Marks: 68, Remark: Pass\n",
      "Walter, Roll: 004, Marks: 45, Remark: Fail\n",
      "Ryan, Roll: 005, Marks: 88, Remark: Distinction\n",
      "\n",
      "Average Marks: 73.80\n"
     ]
    }
   ],
   "source": [
    "# Step 1: Data File Creation and Writing\n",
    "def create_student_file():\n",
    "    with open(\"students.txt\", \"w\") as file:\n",
    "        file.write(\"Festus,001,92\\n\")\n",
    "        file.write(\"Dennis,002,76\\n\")\n",
    "        file.write(\"Amon,003,68\\n\")\n",
    "        file.write(\"Walter,004,45\\n\")\n",
    "        file.write(\"Ryan,005,88\\n\")\n",
    "\n",
    "# Step 2: Reading and Processing Data\n",
    "def read_and_process_student_data():\n",
    "    with open(\"students.txt\", \"r\") as file:\n",
    "        total_marks = 0\n",
    "        student_count = 0\n",
    "        student_data = []\n",
    "\n",
    "        for line in file:\n",
    "            name, roll_number, marks = line.strip().split(\",\")\n",
    "            marks = int(marks)\n",
    "            total_marks += marks\n",
    "            student_count += 1\n",
    "\n",
    "            # Determine remark based on marks\n",
    "            if marks >= 85:\n",
    "                remark = \"Distinction\"\n",
    "            elif marks >= 70:\n",
    "                remark = \"Merit\"\n",
    "            elif marks >= 50:\n",
    "                remark = \"Pass\"\n",
    "            else:\n",
    "                remark = \"Fail\"\n",
    "\n",
    "            # Store updated data for file writing\n",
    "            student_data.append(f\"{name},{roll_number},{marks},{remark}\")\n",
    "            print(f\"{name}, Roll: {roll_number}, Marks: {marks}, Remark: {remark}\")\n",
    "\n",
    "        # Calculate and display average marks\n",
    "        average_marks = total_marks / student_count if student_count else 0\n",
    "        print(f\"\\nAverage Marks: {average_marks:.2f}\")\n",
    "        \n",
    "    return student_data, average_marks\n",
    "\n",
    "# Step 3: Updating the File with Remarks\n",
    "def update_student_file_with_remarks(student_data):\n",
    "    with open(\"students.txt\", \"w\") as file:\n",
    "        for line in student_data:\n",
    "            file.write(line + \"\\n\")\n",
    "\n",
    "# Optional Bonus: Writing Summary File\n",
    "def write_summary_file(student_data, average_marks):\n",
    "    distinction = merit = pass_count = fail = 0\n",
    "    for record in student_data:\n",
    "        remark = record.split(\",\")[-1]\n",
    "        if remark == \"Distinction\":\n",
    "            distinction += 1\n",
    "        elif remark == \"Merit\":\n",
    "            merit += 1\n",
    "        elif remark == \"Pass\":\n",
    "            pass_count += 1\n",
    "        else:\n",
    "            fail += 1\n",
    "\n",
    "    with open(\"summary.txt\", \"w\") as file:\n",
    "        file.write(f\"Total Students: {len(student_data)}\\n\")\n",
    "        file.write(f\"Distinction: {distinction}\\n\")\n",
    "        file.write(f\"Merit: {merit}\\n\")\n",
    "        file.write(f\"Pass: {pass_count}\\n\")\n",
    "        file.write(f\"Fail: {fail}\\n\")\n",
    "        file.write(f\"Average Marks: {average_marks:.2f}\\n\")\n",
    "\n",
    "# Main function to call all steps in order\n",
    "def main():\n",
    "    create_student_file()  # Step 1\n",
    "    student_data, average_marks = read_and_process_student_data()  # Step 2\n",
    "    update_student_file_with_remarks(student_data)  # Step 3\n",
    "    write_summary_file(student_data, average_marks)  # Optional Bonus\n",
    "\n",
    "# Execute main function\n",
    "main()\n"
   ]
  },
  {
   "cell_type": "code",
   "execution_count": 12,
   "metadata": {},
   "outputs": [
    {
     "name": "stdout",
     "output_type": "stream",
     "text": [
      "Festus, Roll: 001, Marks: 92, Remark: Distinction\n",
      "Dennis, Roll: 002, Marks: 76, Remark: Merit\n",
      "Amon, Roll: 003, Marks: 68, Remark: Pass\n",
      "Walter, Roll: 004, Marks: 45, Remark: Fail\n",
      "Ryan, Roll: 005, Marks: 88, Remark: Distinction\n",
      "\n",
      "Avarage Marks: 73.80\n"
     ]
    }
   ],
   "source": [
    "# reading and proccessing data\n",
    "def process_student_data():\n",
    "    with open(\"students.txt\", \"r\") as file:\n",
    "        total_marks = 0\n",
    "        student_count = 0\n",
    "        student_data = []\n",
    "\n",
    "        for line in file:\n",
    "            name, roll_number, marks = line.strip().split(\",\")\n",
    "            marks = int(marks)\n",
    "            total_marks += marks\n",
    "            student_count += 1\n",
    "\n",
    "            # remarks based on marks\n",
    "            if marks >= 85:\n",
    "                remark = \"Distinction\"\n",
    "            elif marks >= 70:\n",
    "                remark = \"Merit\"\n",
    "            elif marks >= 50:\n",
    "                remark = \"Pass\"\n",
    "            else:\n",
    "                remark = \"Fail\"\n",
    "\n",
    "            # store udated data for file writing\n",
    "            student_data.append(f\"{name},{roll_number},{marks},{remark}\")\n",
    "            print(f\"{name}, Roll: {roll_number}, Marks: {marks}, Remark: {remark}\")\n",
    "\n",
    "        # calculating and displaying avarage marks\n",
    "        average_marks = total_marks / student_count if student_count > 0 else 0\n",
    "        print(f\"\\nAvarage Marks: {average_marks:.2f}\")\n",
    "        \n",
    "    return student_data, average_marks\n",
    "\n",
    "# updating the file with remarks\n",
    "def update_student_file(student_data):\n",
    "    with open(\"students.txt\", \"w\") as file:\n",
    "        for line in student_data:\n",
    "            file.write(line + \"\\n\")\n",
    "\n",
    "# main function\n",
    "def main():\n",
    "    student_data, average_marks = process_student_data()\n",
    "    update_student_file(student_data)\n",
    "\n",
    "main()\n"
   ]
  },
  {
   "cell_type": "code",
   "execution_count": null,
   "metadata": {},
   "outputs": [
    {
     "name": "stdout",
     "output_type": "stream",
     "text": [
      "Festus, Roll: 001, Marks: 92, Remark: Distinction\n",
      "Dennis, Roll: 002, Marks: 76, Remark: Credit\n",
      "Amon, Roll: 003, Marks: 68, Remark: Pass\n",
      "Walter, Roll: 004, Marks: 45, Remark: Fail\n",
      "Ryan, Roll: 005, Marks: 88, Remark: Distinction\n",
      "\n",
      "Average Marks: 73.80\n"
     ]
    }
   ],
   "source": [
    "# Summery: Reading and Processing Data\n",
    "def process_student_data():\n",
    "    with open(\"students.txt\", \"r\") as file:\n",
    "        total_marks = 0\n",
    "        student_count = 0\n",
    "        student_data = []\n",
    "        remark_counts = {\n",
    "            \"Distinction\": 0,\n",
    "            \"Credit\": 0,\n",
    "            \"Pass\": 0,\n",
    "            \"Fail\": 0\n",
    "        }\n",
    "\n",
    "        # Read and process each line\n",
    "        for line in file:\n",
    "            parts = line.strip().split(\",\")\n",
    "            if len(parts) != 3:  # Check if there are exactly 3 parts\n",
    "                print(f\"Skipping invalid line: {line.strip()}\")\n",
    "                continue\n",
    "            \n",
    "            name, roll_number, marks = parts\n",
    "            marks = int(marks)\n",
    "            total_marks += marks\n",
    "            student_count += 1\n",
    "\n",
    "            # Assign remark based on marks\n",
    "            if marks >= 85:\n",
    "                remark = \"Distinction\"\n",
    "                remark_counts[\"Distinction\"] += 1\n",
    "            elif marks >= 70:\n",
    "                remark = \"Credit\"\n",
    "                remark_counts[\"Credit\"] += 1\n",
    "            elif marks >= 50:\n",
    "                remark = \"Pass\"\n",
    "                remark_counts[\"Pass\"] += 1\n",
    "            else:\n",
    "                remark = \"Fail\"\n",
    "                remark_counts[\"Fail\"] += 1\n",
    "\n",
    "            # Store updated data with remarks\n",
    "            student_data.append(f\"{name},{roll_number},{marks},{remark}\")\n",
    "            print(f\"{name}, Roll: {roll_number}, Marks: {marks}, Remark: {remark}\")\n",
    "\n",
    "        # Calculate average marks\n",
    "        average_marks = total_marks / student_count if student_count > 0 else 0\n",
    "        print(f\"\\nAverage Marks: {average_marks:.2f}\")\n",
    "\n",
    "    return student_data, average_marks, remark_counts\n",
    "\n",
    "# Step 2: Updating the File with Remarks\n",
    "def update_student_file(student_data):\n",
    "    with open(\"students.txt\", \"w\") as file:\n",
    "        for line in student_data:\n",
    "            file.write(line + \"\\n\")\n",
    "\n",
    "# Step 3: Writing Summary to File\n",
    "def write_summary(remark_counts, average_marks, student_count):\n",
    "    with open(\"summary.txt\", \"w\") as summary_file:\n",
    "        summary_file.write(\"Summary of Students:\\n\")\n",
    "        summary_file.write(f\"Total Students: {student_count}\\n\")\n",
    "        summary_file.write(f\"Distinction: {remark_counts['Distinction']}\\n\")\n",
    "        summary_file.write(f\"Credit: {remark_counts['Credit']}\\n\")\n",
    "        summary_file.write(f\"Pass: {remark_counts['Pass']}\\n\")\n",
    "        summary_file.write(f\"Fail: {remark_counts['Fail']}\\n\")\n",
    "        summary_file.write(f\"Average Marks: {average_marks:.2f}\\n\")\n",
    "\n",
    "# Main function \n",
    "def main():\n",
    "    student_data, average_marks, remark_counts = process_student_data()  # Read data\n",
    "    update_student_file(student_data)  # Write new remarks\n",
    "    write_summary(remark_counts, average_marks, len(student_data))  # Write summary\n",
    "\n",
    "# Execute the program\n",
    "main()\n"
   ]
  },
  {
   "cell_type": "code",
   "execution_count": 10,
   "metadata": {},
   "outputs": [
    {
     "data": {
      "text/plain": [
       "0    Festus\n",
       "1    Albert\n",
       "2      Ruto\n",
       "dtype: object"
      ]
     },
     "execution_count": 10,
     "metadata": {},
     "output_type": "execute_result"
    }
   ],
   "source": [
    "import pandas as pd \n",
    "names=['Festus','Albert','Ruto']\n",
    "pd.Series(names)"
   ]
  },
  {
   "cell_type": "code",
   "execution_count": 12,
   "metadata": {},
   "outputs": [
    {
     "data": {
      "text/plain": [
       "Index(['science', 'maths', 'automata'], dtype='object')"
      ]
     },
     "execution_count": 12,
     "metadata": {},
     "output_type": "execute_result"
    }
   ],
   "source": [
    "books={'science':'ram','maths':'goel','automata':'kracs'}\n",
    "s=pd.Series(books)\n",
    "s.index"
   ]
  },
  {
   "cell_type": "code",
   "execution_count": 13,
   "metadata": {},
   "outputs": [
    {
     "data": {
      "text/plain": [
       "'Ruto'"
      ]
     },
     "execution_count": 13,
     "metadata": {},
     "output_type": "execute_result"
    }
   ],
   "source": [
    "import pandas as pd\n",
    "names=['Festus','Albert','Ruto']\n",
    "s=pd.Series(names,index=['student_1','student_2','student_3'])\n",
    "s.iloc[2]"
   ]
  },
  {
   "cell_type": "code",
   "execution_count": 21,
   "metadata": {},
   "outputs": [
    {
     "data": {
      "text/html": [
       "<div>\n",
       "<style scoped>\n",
       "    .dataframe tbody tr th:only-of-type {\n",
       "        vertical-align: middle;\n",
       "    }\n",
       "\n",
       "    .dataframe tbody tr th {\n",
       "        vertical-align: top;\n",
       "    }\n",
       "\n",
       "    .dataframe thead th {\n",
       "        text-align: right;\n",
       "    }\n",
       "</style>\n",
       "<table border=\"1\" class=\"dataframe\">\n",
       "  <thead>\n",
       "    <tr style=\"text-align: right;\">\n",
       "      <th></th>\n",
       "      <th>A</th>\n",
       "      <th>B</th>\n",
       "      <th>C</th>\n",
       "      <th>D</th>\n",
       "    </tr>\n",
       "  </thead>\n",
       "  <tbody>\n",
       "    <tr>\n",
       "      <th>2001-03-22</th>\n",
       "      <td>-0.755996</td>\n",
       "      <td>-0.104588</td>\n",
       "      <td>0.672995</td>\n",
       "      <td>0.874760</td>\n",
       "    </tr>\n",
       "    <tr>\n",
       "      <th>2001-03-23</th>\n",
       "      <td>1.350417</td>\n",
       "      <td>1.746711</td>\n",
       "      <td>-0.200557</td>\n",
       "      <td>0.974948</td>\n",
       "    </tr>\n",
       "    <tr>\n",
       "      <th>2001-03-24</th>\n",
       "      <td>-2.008793</td>\n",
       "      <td>0.226061</td>\n",
       "      <td>-0.577165</td>\n",
       "      <td>-0.183061</td>\n",
       "    </tr>\n",
       "    <tr>\n",
       "      <th>2001-03-25</th>\n",
       "      <td>-1.397858</td>\n",
       "      <td>-0.081465</td>\n",
       "      <td>-0.634814</td>\n",
       "      <td>-0.824863</td>\n",
       "    </tr>\n",
       "    <tr>\n",
       "      <th>2001-03-26</th>\n",
       "      <td>-0.042491</td>\n",
       "      <td>-0.025375</td>\n",
       "      <td>-0.796995</td>\n",
       "      <td>1.487640</td>\n",
       "    </tr>\n",
       "    <tr>\n",
       "      <th>2001-03-27</th>\n",
       "      <td>-1.222875</td>\n",
       "      <td>0.184149</td>\n",
       "      <td>1.241400</td>\n",
       "      <td>0.363133</td>\n",
       "    </tr>\n",
       "  </tbody>\n",
       "</table>\n",
       "</div>"
      ],
      "text/plain": [
       "                   A         B         C         D\n",
       "2001-03-22 -0.755996 -0.104588  0.672995  0.874760\n",
       "2001-03-23  1.350417  1.746711 -0.200557  0.974948\n",
       "2001-03-24 -2.008793  0.226061 -0.577165 -0.183061\n",
       "2001-03-25 -1.397858 -0.081465 -0.634814 -0.824863\n",
       "2001-03-26 -0.042491 -0.025375 -0.796995  1.487640\n",
       "2001-03-27 -1.222875  0.184149  1.241400  0.363133"
      ]
     },
     "execution_count": 21,
     "metadata": {},
     "output_type": "execute_result"
    }
   ],
   "source": [
    "\n",
    "dates=pd.date_range('20010322',periods=6)\n",
    "dates\n",
    "df=pd.DataFrame(np.random.randn(6,4),index=dates,columns=list('ABCD'))\n",
    "df"
   ]
  },
  {
   "cell_type": "code",
   "execution_count": null,
   "metadata": {},
   "outputs": [
    {
     "data": {
      "text/html": [
       "<div>\n",
       "<style scoped>\n",
       "    .dataframe tbody tr th:only-of-type {\n",
       "        vertical-align: middle;\n",
       "    }\n",
       "\n",
       "    .dataframe tbody tr th {\n",
       "        vertical-align: top;\n",
       "    }\n",
       "\n",
       "    .dataframe thead th {\n",
       "        text-align: right;\n",
       "    }\n",
       "</style>\n",
       "<table border=\"1\" class=\"dataframe\">\n",
       "  <thead>\n",
       "    <tr style=\"text-align: right;\">\n",
       "      <th></th>\n",
       "      <th>A</th>\n",
       "      <th>B</th>\n",
       "      <th>C</th>\n",
       "      <th>D</th>\n",
       "      <th>E</th>\n",
       "      <th>F</th>\n",
       "    </tr>\n",
       "  </thead>\n",
       "  <tbody>\n",
       "    <tr>\n",
       "      <th>0</th>\n",
       "      <td>1.0</td>\n",
       "      <td>2001-03-22</td>\n",
       "      <td>1.0</td>\n",
       "      <td>3</td>\n",
       "      <td>test</td>\n",
       "      <td>foo</td>\n",
       "    </tr>\n",
       "    <tr>\n",
       "      <th>1</th>\n",
       "      <td>1.0</td>\n",
       "      <td>2001-03-22</td>\n",
       "      <td>1.0</td>\n",
       "      <td>3</td>\n",
       "      <td>train</td>\n",
       "      <td>foo</td>\n",
       "    </tr>\n",
       "    <tr>\n",
       "      <th>2</th>\n",
       "      <td>1.0</td>\n",
       "      <td>2001-03-22</td>\n",
       "      <td>1.0</td>\n",
       "      <td>3</td>\n",
       "      <td>test</td>\n",
       "      <td>foo</td>\n",
       "    </tr>\n",
       "    <tr>\n",
       "      <th>3</th>\n",
       "      <td>1.0</td>\n",
       "      <td>2001-03-22</td>\n",
       "      <td>1.0</td>\n",
       "      <td>3</td>\n",
       "      <td>train</td>\n",
       "      <td>foo</td>\n",
       "    </tr>\n",
       "  </tbody>\n",
       "</table>\n",
       "</div>"
      ],
      "text/plain": [
       "     A          B    C  D      E    F\n",
       "0  1.0 2001-03-22  1.0  3   test  foo\n",
       "1  1.0 2001-03-22  1.0  3  train  foo\n",
       "2  1.0 2001-03-22  1.0  3   test  foo\n",
       "3  1.0 2001-03-22  1.0  3  train  foo"
      ]
     },
     "execution_count": 24,
     "metadata": {},
     "output_type": "execute_result"
    }
   ],
   "source": [
    "import numpy as np\n",
    "df2=pd.DataFrame({'A':1.,\n",
    "                  'B':pd.Timestamp('20010322'),\n",
    "                  'C':pd.Series(1,index=list(range(4)),dtype='float32'),\n",
    "                  'D':np.array([3]*4,dtype='int32'),\n",
    "                  'E':pd.Categorical([\"test\",\"train\",\"test\",\"train\"]),\n",
    "                  'F':'foo'})\n",
    "df2"
   ]
  },
  {
   "cell_type": "code",
   "execution_count": 2,
   "metadata": {},
   "outputs": [
    {
     "name": "stdout",
     "output_type": "stream",
     "text": [
      "HelloHelloHello\n"
     ]
    }
   ],
   "source": [
    "print(\"Hello\"*3)"
   ]
  },
  {
   "cell_type": "code",
   "execution_count": 4,
   "metadata": {},
   "outputs": [
    {
     "name": "stdout",
     "output_type": "stream",
     "text": [
      "2\n"
     ]
    }
   ],
   "source": [
    "x=5\n",
    "y=3\n",
    "print(x%y)"
   ]
  },
  {
   "cell_type": "code",
   "execution_count": 2,
   "metadata": {},
   "outputs": [
    {
     "name": "stdout",
     "output_type": "stream",
     "text": [
      "False\n"
     ]
    }
   ],
   "source": [
    "x=\"123\"\n",
    "y=\"\".join(sorted(x,reverse=True))\n",
    "print(x==y)"
   ]
  },
  {
   "cell_type": "code",
   "execution_count": 9,
   "metadata": {},
   "outputs": [
    {
     "name": "stdout",
     "output_type": "stream",
     "text": [
      "           ADDRESS      SUBURB   PRICE  BEDROOMS  BATHROOMS  GARAGE  \\\n",
      "0    1 Acorn Place  South Lake  565000         4          2     2.0   \n",
      "1      1 Addis Way       Wandi  365000         3          2     2.0   \n",
      "2  1 Ainsley Court     Camillo  287000         3          1     1.0   \n",
      "3  1 Albert Street    Bellevue  255000         2          1     2.0   \n",
      "4     1 Aman Place   Lockridge  325000         4          1     2.0   \n",
      "\n",
      "   LAND_AREA  FLOOR_AREA  BUILD_YEAR  CBD_DIST               NEAREST_STN  \\\n",
      "0        600         160      2003.0     18300  Cockburn Central Station   \n",
      "1        351         139      2013.0     26900           Kwinana Station   \n",
      "2        719          86      1979.0     22600           Challis Station   \n",
      "3        651          59      1953.0     17900           Midland Station   \n",
      "4        466         131      1998.0     11200        Bassendean Station   \n",
      "\n",
      "   NEAREST_STN_DIST  DATE_SOLD  POSTCODE   LATITUDE   LONGITUDE  \\\n",
      "0              1800  09-2018\\r      6164 -32.115900  115.842450   \n",
      "1              4900  02-2019\\r      6167 -32.193470  115.859554   \n",
      "2              1900  06-2015\\r      6111 -32.120578  115.993579   \n",
      "3              3600  07-2018\\r      6056 -31.900547  116.038009   \n",
      "4              2000  11-2016\\r      6054 -31.885790  115.947780   \n",
      "\n",
      "                    NEAREST_SCH  NEAREST_SCH_DIST  NEAREST_SCH_RANK  \n",
      "0   LAKELAND SENIOR HIGH SCHOOL          0.828339               NaN  \n",
      "1                ATWELL COLLEGE          5.524324             129.0  \n",
      "2  KELMSCOTT SENIOR HIGH SCHOOL          1.649178             113.0  \n",
      "3  SWAN VIEW SENIOR HIGH SCHOOL          1.571401               NaN  \n",
      "4                 KIARA COLLEGE          1.514922               NaN  \n"
     ]
    }
   ],
   "source": [
    "#importing data\n",
    "import pandas as pd\n",
    "data = pd.read_csv('House_Data.csv')\n",
    "print(data.head())\n",
    "\n",
    "\n",
    "\n"
   ]
  },
  {
   "cell_type": "code",
   "execution_count": 4,
   "metadata": {},
   "outputs": [],
   "source": [
    "def process_House_Data():\n",
    "    with open(\"House_Data\", \"r\") as file:\n",
    "        print(House_Data)\n"
   ]
  },
  {
   "cell_type": "code",
   "execution_count": 1,
   "metadata": {},
   "outputs": [
    {
     "name": "stdout",
     "output_type": "stream",
     "text": [
      "   User ID    Device Model Operating System  App Usage Time (min/day)  \\\n",
      "0        1  Google Pixel 5          Android                       393   \n",
      "1        2       OnePlus 9          Android                       268   \n",
      "2        3    Xiaomi Mi 11          Android                       154   \n",
      "3        4  Google Pixel 5          Android                       239   \n",
      "4        5       iPhone 12              iOS                       187   \n",
      "\n",
      "   Screen On Time (hours/day)  Battery Drain (mAh/day)  \\\n",
      "0                         6.4                     1872   \n",
      "1                         4.7                     1331   \n",
      "2                         4.0                      761   \n",
      "3                         4.8                     1676   \n",
      "4                         4.3                     1367   \n",
      "\n",
      "   Number of Apps Installed  Data Usage (MB/day)  Age  Gender  \\\n",
      "0                        67                 1122   40    Male   \n",
      "1                        42                  944   47  Female   \n",
      "2                        32                  322   42    Male   \n",
      "3                        56                  871   20    Male   \n",
      "4                        58                  988   31  Female   \n",
      "\n",
      "   User Behavior Class  \n",
      "0                    4  \n",
      "1                    3  \n",
      "2                    2  \n",
      "3                    3  \n",
      "4                    3  \n"
     ]
    }
   ],
   "source": [
    "import pandas as pd\n",
    "data = pd.read_csv('Phone_Dataset.csv')\n",
    "print(data.head())\n"
   ]
  }
 ],
 "metadata": {
  "kernelspec": {
   "display_name": "Python 3",
   "language": "python",
   "name": "python3"
  },
  "language_info": {
   "codemirror_mode": {
    "name": "ipython",
    "version": 3
   },
   "file_extension": ".py",
   "mimetype": "text/x-python",
   "name": "python",
   "nbconvert_exporter": "python",
   "pygments_lexer": "ipython3",
   "version": "3.12.7"
  }
 },
 "nbformat": 4,
 "nbformat_minor": 2
}
